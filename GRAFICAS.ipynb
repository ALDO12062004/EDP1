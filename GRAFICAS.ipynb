{
  "cells": [
    {
      "cell_type": "markdown",
      "source": [
        "Es una librerìa diseñada para realizar cálculos matemáticos simbólicos"
      ],
      "metadata": {
        "id": "QeBX7XvSvQsZ"
      },
      "id": "QeBX7XvSvQsZ"
    },
    {
      "cell_type": "code",
      "execution_count": null,
      "id": "ea3c7cca",
      "metadata": {
        "id": "ea3c7cca"
      },
      "outputs": [],
      "source": [
        "from sympy import *"
      ]
    },
    {
      "cell_type": "markdown",
      "source": [
        "Se utiliza para definir una variable simbólica. En este caso llamada \"x\""
      ],
      "metadata": {
        "id": "k0tMX-Epvdhg"
      },
      "id": "k0tMX-Epvdhg"
    },
    {
      "cell_type": "code",
      "execution_count": null,
      "id": "9a809e15",
      "metadata": {
        "id": "9a809e15"
      },
      "outputs": [],
      "source": [
        "x=symbols('x')"
      ]
    },
    {
      "cell_type": "markdown",
      "source": [
        "\n",
        "\n",
        "Se utiliza para graficar una una función mate,ática. En este caso $f(x)=x^2$"
      ],
      "metadata": {
        "id": "cgJFGNL1vlBJ"
      },
      "id": "cgJFGNL1vlBJ"
    },
    {
      "cell_type": "code",
      "execution_count": null,
      "id": "f013e8e4",
      "metadata": {
        "id": "f013e8e4"
      },
      "outputs": [],
      "source": [
        "c1=plotting.plot(x*x)"
      ]
    },
    {
      "cell_type": "markdown",
      "source": [
        "Sirve de igual forma para graficar una función matemática, con la excepción de usar \"show=False\", las gráficas no se mostrarán hasta que tu decidas hacerlo."
      ],
      "metadata": {
        "id": "jxLQgmIKvyGT"
      },
      "id": "jxLQgmIKvyGT"
    },
    {
      "cell_type": "code",
      "execution_count": null,
      "id": "681a546b",
      "metadata": {
        "id": "681a546b"
      },
      "outputs": [],
      "source": [
        "cl=plotting.plot(x*x,show=False)\n",
        "c2=plotting.plot(x**3,show=False)"
      ]
    },
    {
      "cell_type": "markdown",
      "source": [
        "$c_1$ es una variable que almacena un objeto gráfico de la librería. Se lmacenan referencias a objetos en memoria. Esto significa que $c_1$ no contiene directamente la gráfica; en lugar de eso, guarda una referencia"
      ],
      "metadata": {
        "id": "4bxsEfmIwOvM"
      },
      "id": "4bxsEfmIwOvM"
    },
    {
      "cell_type": "code",
      "execution_count": null,
      "id": "826d2156",
      "metadata": {
        "id": "826d2156"
      },
      "outputs": [],
      "source": [
        "c1 #Indica qué es y en qué espacio de memoria está"
      ]
    },
    {
      "cell_type": "markdown",
      "source": [
        "Se usa para mostrar la gráfica que está contenida en el objeto $c_1$."
      ],
      "metadata": {
        "id": "zwbRuinWxU7-"
      },
      "id": "zwbRuinWxU7-"
    },
    {
      "cell_type": "code",
      "execution_count": null,
      "id": "c13d8b05",
      "metadata": {
        "id": "c13d8b05"
      },
      "outputs": [],
      "source": [
        "c1.show()"
      ]
    },
    {
      "cell_type": "markdown",
      "source": [
        "Se utiliza para combinar dos gráficos, alamacenados en las variables $c_1$ y $c_2$. Es decir, se agreguen las gráficas de $c_2$ a $c_1$ sin los ejes de coordenadas $x,y$."
      ],
      "metadata": {
        "id": "OMxW21Oqw04Q"
      },
      "id": "OMxW21Oqw04Q"
    },
    {
      "cell_type": "code",
      "execution_count": null,
      "id": "c52a5b46",
      "metadata": {
        "id": "c52a5b46"
      },
      "outputs": [],
      "source": [
        "c1.append(c2[0]) #Anida las gráficas sin los ejes"
      ]
    },
    {
      "cell_type": "markdown",
      "source": [
        "Se utiliza para agregar todos los gráficos contenidos en $c_2$ al objeto gráfico $c_1$. Se usa para mostrar la gráfica que está contenida en el objeto $c_1$.\n",
        "\n"
      ],
      "metadata": {
        "id": "gGK8vWmwyZhe"
      },
      "id": "gGK8vWmwyZhe"
    },
    {
      "cell_type": "code",
      "execution_count": null,
      "id": "135bfd2d",
      "metadata": {
        "id": "135bfd2d"
      },
      "outputs": [],
      "source": [
        "c1.extend(c2)"
      ]
    },
    {
      "cell_type": "markdown",
      "source": [
        "Se usa para mostrar la gráfica que está contenida en el objeto $c_1$."
      ],
      "metadata": {
        "id": "tSnCVo2zzwEi"
      },
      "id": "tSnCVo2zzwEi"
    },
    {
      "cell_type": "code",
      "execution_count": null,
      "id": "56418d41",
      "metadata": {
        "id": "56418d41"
      },
      "outputs": [],
      "source": [
        "c1.show()"
      ]
    },
    {
      "cell_type": "markdown",
      "source": [
        "Se usa para mostrar la gráfica que está contenida en el objeto $c_2$."
      ],
      "metadata": {
        "id": "-ZyKTSq5zyuc"
      },
      "id": "-ZyKTSq5zyuc"
    },
    {
      "cell_type": "code",
      "execution_count": null,
      "id": "3a25a53b",
      "metadata": {
        "id": "3a25a53b"
      },
      "outputs": [],
      "source": [
        "c2.show()"
      ]
    },
    {
      "cell_type": "markdown",
      "source": [
        "Se utiliza para importar la función plot del módulo $sympy.plotting,$ la cual es parte de la librería $sympy$ en Python, diseñada para trabajar con matemáticas simbólicas."
      ],
      "metadata": {
        "id": "TvKx5kbcz_zo"
      },
      "id": "TvKx5kbcz_zo"
    },
    {
      "cell_type": "code",
      "execution_count": null,
      "id": "ad2995f2",
      "metadata": {
        "id": "ad2995f2"
      },
      "outputs": [],
      "source": [
        "from sympy.plotting import plot"
      ]
    },
    {
      "cell_type": "markdown",
      "source": [
        "Se crea la gráfica de la función $f(x)=x^2$"
      ],
      "metadata": {
        "id": "ZANPtD100K8o"
      },
      "id": "ZANPtD100K8o"
    },
    {
      "cell_type": "code",
      "execution_count": null,
      "id": "4d9c7160",
      "metadata": {
        "id": "4d9c7160"
      },
      "outputs": [],
      "source": [
        "plot(x**2)"
      ]
    },
    {
      "cell_type": "markdown",
      "source": [
        "Se crea la gráfica de la función $f(x)=x^2$ en un intervalo donde $ x \\in [-1,1]$"
      ],
      "metadata": {
        "id": "L6GhkSjm0lSG"
      },
      "id": "L6GhkSjm0lSG"
    },
    {
      "cell_type": "code",
      "execution_count": null,
      "id": "cac91b1d",
      "metadata": {
        "id": "cac91b1d"
      },
      "outputs": [],
      "source": [
        "plot(x**2,(x,-1,1))"
      ]
    },
    {
      "cell_type": "markdown",
      "source": [
        "Se utiliza para graficar la función $f(x)=e^x$ en un intervalo donde $x \\in [0,2]$"
      ],
      "metadata": {
        "id": "kj6zM-3mMh3P"
      },
      "id": "kj6zM-3mMh3P"
    },
    {
      "cell_type": "code",
      "execution_count": null,
      "id": "12aaf4ee",
      "metadata": {
        "id": "12aaf4ee"
      },
      "outputs": [],
      "source": [
        "plot(exp(x))\n",
        "#plot(exp(x),(x,0,2))"
      ]
    },
    {
      "cell_type": "markdown",
      "source": [
        "Grafica varias funciones en una sola figura. En particular las funciones $f(x)=x, f(x)=x^2, f(x)=x^3$ en un intervalo donde $x \\in [-2,2]$"
      ],
      "metadata": {
        "id": "mj4xa_LGNh92"
      },
      "id": "mj4xa_LGNh92"
    },
    {
      "cell_type": "code",
      "execution_count": null,
      "id": "a679a5ba",
      "metadata": {
        "id": "a679a5ba"
      },
      "outputs": [],
      "source": [
        "plot(x,x**2,x**3, (x,-2,2))"
      ]
    },
    {
      "cell_type": "markdown",
      "source": [
        "Grafica la función $f(x)=x^2$ además:\n",
        "\n",
        "adaptative=False: Desactiva el muestreo adaptativo, es decir, en lugar de elegir puntos adicionales donde la función cambie rápidamente, se usarán únicamente los puntos equidistantes definidos por el parámetro siguiente.\n",
        "\n",
        "nb_of_points=10: Especifica el número de puntos a evaluar en el rango por defecto. En este caso, se evaluarán 10 puntos para dibujar la curva."
      ],
      "metadata": {
        "id": "ctwm5PsEOlTu"
      },
      "id": "ctwm5PsEOlTu"
    },
    {
      "cell_type": "code",
      "execution_count": null,
      "id": "b2425f84",
      "metadata": {
        "id": "b2425f84"
      },
      "outputs": [],
      "source": [
        "plot(x**2,adaptative=False,nb_of_points=10) #Revisar"
      ]
    },
    {
      "cell_type": "markdown",
      "id": "9ce41f8e",
      "metadata": {
        "id": "9ce41f8e"
      },
      "source": [
        "### Curvas parametrizadas"
      ]
    },
    {
      "cell_type": "markdown",
      "source": [
        "Permite crear gráficos de ecuaciones paramétricas. Las ecuaciones paramétricas definen curvas en el plano mediante dos funciones, una para\n",
        "$x(t)$ y otra para $y(t)$, donde $t$ es el parámetro."
      ],
      "metadata": {
        "id": "XRbLNYkePeul"
      },
      "id": "XRbLNYkePeul"
    },
    {
      "cell_type": "code",
      "execution_count": null,
      "id": "9dcc8951",
      "metadata": {
        "id": "9dcc8951"
      },
      "outputs": [],
      "source": [
        "from sympy import plot_parametric"
      ]
    },
    {
      "cell_type": "markdown",
      "source": [
        "Sirve para declarar una variable simbólica llamada $s$"
      ],
      "metadata": {
        "id": "TC3o152yQNAG"
      },
      "id": "TC3o152yQNAG"
    },
    {
      "cell_type": "code",
      "execution_count": null,
      "id": "a75bd4c7",
      "metadata": {
        "id": "a75bd4c7"
      },
      "outputs": [],
      "source": [
        "s=symbols('s')"
      ]
    },
    {
      "cell_type": "markdown",
      "source": [
        "Sirve para graficar una curva definida por sus ecuaciones paramétricas, donde $x(s)=cos(𝑠)$ y $𝑦(𝑠)=sin(𝑠)$.En este caso, se trata de una parametrización de la circunferencia unitaria."
      ],
      "metadata": {
        "id": "SJDrYi07QcUH"
      },
      "id": "SJDrYi07QcUH"
    },
    {
      "cell_type": "code",
      "execution_count": null,
      "id": "b1b1f0c8",
      "metadata": {
        "id": "b1b1f0c8"
      },
      "outputs": [],
      "source": [
        "plot_parametric((cos(s)),sin(s))"
      ]
    },
    {
      "cell_type": "markdown",
      "source": [
        "Grafica dos funciones $x(s)=cos(𝑠)$ y $𝑦(𝑠)=sin(𝑠)$, y la función $y(s)=s^2$, en un intervalo donde $s \\in [-4,4]$"
      ],
      "metadata": {
        "id": "2-Am0y-GRpHC"
      },
      "id": "2-Am0y-GRpHC"
    },
    {
      "cell_type": "code",
      "execution_count": null,
      "id": "5ab8a4f0",
      "metadata": {
        "id": "5ab8a4f0"
      },
      "outputs": [],
      "source": [
        "plot_parametric((cos(s),sin(s)),(s,s**2),(s,-4,4))"
      ]
    },
    {
      "cell_type": "markdown",
      "source": [
        "Se utiliza para modificar el color de la línea de una de las curvas graficadas. En este caso, se está accediendo al primer elemento (índice 0) de la lista de objetos de la gráfica (por ejemplo, cuando se han creado varias curvas con Sympy) y se le asigna el color verde."
      ],
      "metadata": {
        "id": "jlFtR4WTTDUs"
      },
      "id": "jlFtR4WTTDUs"
    },
    {
      "cell_type": "code",
      "execution_count": null,
      "id": "aa955b9e",
      "metadata": {
        "id": "aa955b9e"
      },
      "outputs": [],
      "source": [
        "c2[0].line_color='green'"
      ]
    },
    {
      "cell_type": "markdown",
      "source": [
        "Se utiliza para mostrar la figura o gráfica que se ha construido o modificado previamente"
      ],
      "metadata": {
        "id": "qr5kWMIzTOAK"
      },
      "id": "qr5kWMIzTOAK"
    },
    {
      "cell_type": "code",
      "execution_count": null,
      "id": "be06e1b1",
      "metadata": {
        "id": "be06e1b1"
      },
      "outputs": [],
      "source": [
        "c2.show()"
      ]
    },
    {
      "cell_type": "markdown",
      "id": "cca07cb7",
      "metadata": {
        "id": "cca07cb7"
      },
      "source": [
        "### Graficas 3D"
      ]
    },
    {
      "cell_type": "markdown",
      "source": [
        "Sirve para importar la función plot3d desde el módulo de graficación 3D de Sympy. Esta función se utiliza para generar gráficos tridimensionales de funciones de dos variables."
      ],
      "metadata": {
        "id": "i6EbYyH9TeTK"
      },
      "id": "i6EbYyH9TeTK"
    },
    {
      "cell_type": "code",
      "execution_count": null,
      "id": "af558339",
      "metadata": {
        "id": "af558339"
      },
      "outputs": [],
      "source": [
        "from sympy.plotting import plot3d"
      ]
    },
    {
      "cell_type": "markdown",
      "source": [
        "Sirve para declarar dos variables simbólicas, $𝑥$ e $𝑦$"
      ],
      "metadata": {
        "id": "hwMX3CYTToUq"
      },
      "id": "hwMX3CYTToUq"
    },
    {
      "cell_type": "code",
      "execution_count": null,
      "id": "b8c4346f",
      "metadata": {
        "id": "b8c4346f"
      },
      "outputs": [],
      "source": [
        "x,y=symbols('x y')"
      ]
    },
    {
      "cell_type": "markdown",
      "source": [
        "Imprime la función $f(x,y)=xy$ en el plano tridimensional"
      ],
      "metadata": {
        "id": "2QwcB-q2UB2q"
      },
      "id": "2QwcB-q2UB2q"
    },
    {
      "cell_type": "code",
      "execution_count": null,
      "id": "7bf8b47c",
      "metadata": {
        "id": "7bf8b47c"
      },
      "outputs": [],
      "source": [
        "plot3d(x*y)"
      ]
    },
    {
      "cell_type": "markdown",
      "source": [
        "Imprime la función $f(x,y)=xy$ en el plano tridimensional, donde $x \\in [-5,5]$ y $y \\in [-5,5]$"
      ],
      "metadata": {
        "id": "JhIK1_HdUUhj"
      },
      "id": "JhIK1_HdUUhj"
    },
    {
      "cell_type": "code",
      "execution_count": null,
      "id": "26b09e08",
      "metadata": {
        "id": "26b09e08"
      },
      "outputs": [],
      "source": [
        "plot3d(x*y, (x,-5,5),(y,-5,5))"
      ]
    },
    {
      "cell_type": "markdown",
      "source": [
        "Imprime la función $f(x,y)=xy$ y $f(x,y)=-xy$ en la misma figura, en el plano tridimensional, donde $x \\in [-5,5]$ y $y \\in [-5,5]$"
      ],
      "metadata": {
        "id": "r-odJBlHUrlO"
      },
      "id": "r-odJBlHUrlO"
    },
    {
      "cell_type": "code",
      "execution_count": null,
      "id": "1bd8303d",
      "metadata": {
        "id": "1bd8303d"
      },
      "outputs": [],
      "source": [
        "plot3d(x*y, -x*y, (x,-5,5),(y,-5,5))"
      ]
    },
    {
      "cell_type": "markdown",
      "source": [
        "Grafica dos funciones en la misma figura, con diferentes dominios:\n",
        "\n",
        "$f(x,y)=x^2+y^2$ donde $x \\in [-5,5], y \\in [-5,5]$\n",
        "\n",
        "$f(x,y)=xy$ donde $x \\in [-3,3], y \\in [-3,3]$"
      ],
      "metadata": {
        "id": "J5Zqt41_VEVl"
      },
      "id": "J5Zqt41_VEVl"
    },
    {
      "cell_type": "code",
      "execution_count": null,
      "id": "bc48dc4f",
      "metadata": {
        "id": "bc48dc4f"
      },
      "outputs": [],
      "source": [
        "plot3d((x**2 + y**2, (x,-5,5),(y,-5,5)),(x*y,(x,-3,3),(y,-3,3)))"
      ]
    },
    {
      "cell_type": "markdown",
      "source": [
        "importa la función, la cual permite graficar curvas paramétricas en 3D."
      ],
      "metadata": {
        "id": "JTfxfxlFXjNL"
      },
      "id": "JTfxfxlFXjNL"
    },
    {
      "cell_type": "code",
      "execution_count": null,
      "id": "6cdd3777",
      "metadata": {
        "id": "6cdd3777"
      },
      "outputs": [],
      "source": [
        "from sympy.plotting import plot3d_parametric_line"
      ]
    },
    {
      "cell_type": "markdown",
      "source": [
        "grafica una función paramétrica\n",
        "\n",
        "$x(s)=cos(s)$\n",
        "\n",
        "$y(s)=sen(s)$\n",
        "\n",
        "$z(s)=s$"
      ],
      "metadata": {
        "id": "E7QWlUioXuoK"
      },
      "id": "E7QWlUioXuoK"
    },
    {
      "cell_type": "code",
      "execution_count": null,
      "id": "e57589a8",
      "metadata": {
        "id": "e57589a8"
      },
      "outputs": [],
      "source": [
        "plot3d_parametric_line(cos(s),sin(s),s)"
      ]
    },
    {
      "cell_type": "markdown",
      "source": [
        "grafica dos funciones paramétricas en una sola figura\n",
        "\n",
        "$x(s)=cos(s)$\n",
        "\n",
        "$y(s)=sen(s)$\n",
        "\n",
        "$z(s)=s$\n",
        "\n",
        "$x \\in [-5,5]$\n",
        "\n",
        "$x(s)=sen(s)$\n",
        "\n",
        "$y(s)=s^2$\n",
        "\n",
        "$z(s)=s$\n",
        "\n",
        "$x \\in [-5,5]$"
      ],
      "metadata": {
        "id": "yrsw4tPiYcxS"
      },
      "id": "yrsw4tPiYcxS"
    },
    {
      "cell_type": "code",
      "execution_count": null,
      "id": "b182c4af",
      "metadata": {
        "id": "b182c4af"
      },
      "outputs": [],
      "source": [
        "plot3d_parametric_line((cos(s),sin(s),s,(s,-5,5)),(sin(s),s**2,s,(s,-5,5)))"
      ]
    },
    {
      "cell_type": "markdown",
      "source": [
        "Se utiliza para graficar superficies paramétricas en 3D."
      ],
      "metadata": {
        "id": "akxkpognZJ6u"
      },
      "id": "akxkpognZJ6u"
    },
    {
      "cell_type": "code",
      "execution_count": null,
      "id": "31185692",
      "metadata": {
        "id": "31185692"
      },
      "outputs": [],
      "source": [
        "from sympy.plotting import plot3d_parametric_surface"
      ]
    },
    {
      "cell_type": "markdown",
      "source": [
        "Define dos variables simbólicas $u,v$\n",
        "\n",
        "Estas variables suelen usarse como parámetros en gráficos paramétricos en 3D, especialmente en superficies paramétricas."
      ],
      "metadata": {
        "id": "r0Zrfj90ZTNh"
      },
      "id": "r0Zrfj90ZTNh"
    },
    {
      "cell_type": "code",
      "execution_count": null,
      "id": "22e2c1c2",
      "metadata": {
        "id": "22e2c1c2"
      },
      "outputs": [],
      "source": [
        "u, v =symbols('u v')"
      ]
    },
    {
      "cell_type": "markdown",
      "source": [
        "Genera una superficie paramétrica en 3D definida por las siguientes ecuaciones:\n",
        "\n",
        "$x=cos(u+v)$\n",
        "\n",
        "$y=sen(u-v)$\n",
        "\n",
        "$z=u-v$\n"
      ],
      "metadata": {
        "id": "5IYWAxoJZ-8J"
      },
      "id": "5IYWAxoJZ-8J"
    },
    {
      "cell_type": "code",
      "execution_count": null,
      "id": "c96ce23a",
      "metadata": {
        "id": "c96ce23a"
      },
      "outputs": [],
      "source": [
        "plot3d_parametric_surface(cos(u+v),sin(u-v),u-v)"
      ]
    },
    {
      "cell_type": "markdown",
      "source": [
        "Genera una superficie paramétrica en 3D que representa una esfera utilizando coordenadas esféricas.\n",
        "\n",
        "$x=cos(v)cos(u)$\n",
        "\n",
        "$y=cos(v)sen(u)$\n",
        "\n",
        "$z=sen(v)$"
      ],
      "metadata": {
        "id": "9oRfk_FFagF5"
      },
      "id": "9oRfk_FFagF5"
    },
    {
      "cell_type": "code",
      "execution_count": null,
      "id": "406abc70",
      "metadata": {
        "id": "406abc70"
      },
      "outputs": [],
      "source": [
        "plot3d_parametric_surface(cos(v)*cos(u),cos(v)*sin(u),sin(v))"
      ]
    },
    {
      "cell_type": "markdown",
      "id": "4203d6ad",
      "metadata": {
        "id": "4203d6ad"
      },
      "source": [
        "Funciones implícitas"
      ]
    },
    {
      "cell_type": "markdown",
      "source": [
        "importa varias funciones para graficar ecuaciones implícitas y trabajar con relaciones lógicas. Ecuaciones implicitas, variables simbólicas, igualdades, condiciones lógicas."
      ],
      "metadata": {
        "id": "rQoyLiBtbuV_"
      },
      "id": "rQoyLiBtbuV_"
    },
    {
      "cell_type": "code",
      "execution_count": null,
      "id": "dfccc5e3",
      "metadata": {
        "id": "dfccc5e3"
      },
      "outputs": [],
      "source": [
        "from sympy import plot_implicit, symbols, Eq, And"
      ]
    },
    {
      "cell_type": "markdown",
      "source": [
        "Define dos variables simbólicas $x,y$ en SymPy,"
      ],
      "metadata": {
        "id": "EQbm1Q_Xc_Ql"
      },
      "id": "EQbm1Q_Xc_Ql"
    },
    {
      "cell_type": "code",
      "execution_count": null,
      "id": "c0d7f8b3",
      "metadata": {
        "id": "c0d7f8b3"
      },
      "outputs": [],
      "source": [
        "x, y = symbols(' x y')"
      ]
    },
    {
      "cell_type": "markdown",
      "source": [
        "Grafica la función implícita $x^2+y^2=5$"
      ],
      "metadata": {
        "id": "UJ8JRl93duXz"
      },
      "id": "UJ8JRl93duXz"
    },
    {
      "cell_type": "code",
      "execution_count": null,
      "id": "d9cfb450",
      "metadata": {
        "id": "d9cfb450"
      },
      "outputs": [],
      "source": [
        "p1 = plot_implicit(Eq(x**2 + y**2, 5))"
      ]
    },
    {
      "cell_type": "markdown",
      "source": [
        "Grafica la región de la funciíon de desigualdad $y >x^2$"
      ],
      "metadata": {
        "id": "j73xwIySd_Nd"
      },
      "id": "j73xwIySd_Nd"
    },
    {
      "cell_type": "code",
      "execution_count": null,
      "id": "da52c476",
      "metadata": {
        "id": "da52c476"
      },
      "outputs": [],
      "source": [
        "p6 = plot_implicit(y > x**2)"
      ]
    },
    {
      "cell_type": "markdown",
      "source": [
        "Grafica la región definida por las dos desigualdades $y > x, y > -x$\n"
      ],
      "metadata": {
        "id": "HcfmFYYAeZ5d"
      },
      "id": "HcfmFYYAeZ5d"
    },
    {
      "cell_type": "code",
      "execution_count": null,
      "id": "a819d003",
      "metadata": {
        "id": "a819d003"
      },
      "outputs": [],
      "source": [
        "p6 = plot_implicit(And(y > x, y > -x))"
      ]
    },
    {
      "cell_type": "markdown",
      "source": [
        "EJERCICIO"
      ],
      "metadata": {
        "id": "y19L-0-x10SD"
      },
      "id": "y19L-0-x10SD"
    },
    {
      "cell_type": "code",
      "source": [
        "import numpy as np\n",
        "import matplotlib.pyplot as plt\n",
        "from mpl_toolkits.mplot3d import Axes3D\n",
        "\n",
        "# Definir la función f(x, y) = x^3 - xy + y^3\n",
        "def f(x, y):\n",
        "    return x**3 - x*y + y**3\n",
        "\n",
        "# Crear un rango de valores para x y y\n",
        "x = np.linspace(-5, 5, 400)  # Valores de x entre -5 y 5\n",
        "y = np.linspace(-5, 5, 400)  # Valores de y entre -5 y 5\n",
        "\n",
        "# Crear una malla de coordenadas x, y\n",
        "X, Y = np.meshgrid(x, y)\n",
        "\n",
        "# Evaluar la función en cada punto de la malla\n",
        "Z = f(X, Y)\n",
        "\n",
        "# Crear la figura y el objeto de ejes 3D\n",
        "fig = plt.figure()\n",
        "ax = fig.add_subplot(111, projection='3d')\n",
        "\n",
        "# Graficar la superficie\n",
        "ax.plot_surface(X, Y, Z, cmap='viridis')\n",
        "\n",
        "# Etiquetas\n",
        "ax.set_xlabel('X')\n",
        "ax.set_ylabel('Y')\n",
        "ax.set_zlabel('f(x, y)')\n",
        "ax.set_title('Gráfico de f(x, y) = x^3 - xy + y^3')\n",
        "\n",
        "# Mostrar el gráfico\n",
        "plt.show()\n"
      ],
      "metadata": {
        "colab": {
          "base_uri": "https://localhost:8080/",
          "height": 432
        },
        "id": "j4qo2HiS1vBL",
        "outputId": "bd6eaf9b-a1f5-4656-da55-aee07bdb4e62"
      },
      "id": "j4qo2HiS1vBL",
      "execution_count": null,
      "outputs": [
        {
          "output_type": "display_data",
          "data": {
            "text/plain": [
              "<Figure size 640x480 with 1 Axes>"
            ],
            "image/png": "[encoded data removed]"
          },
          "metadata": {}
        }
      ]
    }
  ],
  "metadata": {
    "kernelspec": {
      "display_name": "Python 3 (ipykernel)",
      "language": "python",
      "name": "python3"
    },
    "language_info": {
      "codemirror_mode": {
        "name": "ipython",
        "version": 3
      },
      "file_extension": ".py",
      "mimetype": "text/x-python",
      "name": "python",
      "nbconvert_exporter": "python",
      "pygments_lexer": "ipython3",
      "version": "3.7.3"
    },
    "colab": {
      "provenance": []
    }
  },
  "nbformat": 4,
  "nbformat_minor": 5
}