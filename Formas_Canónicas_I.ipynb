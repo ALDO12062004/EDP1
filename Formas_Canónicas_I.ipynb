{
  "nbformat": 4,
  "nbformat_minor": 0,
  "metadata": {
    "colab": {
      "provenance": [],
      "authorship_tag": "ABX9TyNDMG/SWC7TB4Zxeny5yG2p",
      "include_colab_link": true
    },
    "kernelspec": {
      "name": "python3",
      "display_name": "Python 3"
    },
    "language_info": {
      "name": "python"
    }
  },
  "cells": [
    {
      "cell_type": "markdown",
      "metadata": {
        "id": "view-in-github",
        "colab_type": "text"
      },
      "source": [
        "<a href=\"https://colab.research.google.com/github/ALDO12062004/EDP1/blob/main/Formas_Can%C3%B3nicas_I.ipynb\" target=\"_parent\"><img src=\"https://colab.research.google.com/assets/colab-badge.svg\" alt=\"Open In Colab\"/></a>"
      ]
    },
    {
      "cell_type": "markdown",
      "source": [
        "importamos librerias"
      ],
      "metadata": {
        "id": "9eLlOmE_WOWM"
      }
    },
    {
      "cell_type": "code",
      "execution_count": 12,
      "metadata": {
        "colab": {
          "base_uri": "https://localhost:8080/"
        },
        "id": "xXdRcheIV07z",
        "outputId": "11534bc0-d7e8-43de-f5f2-1e87ec14ae35"
      },
      "outputs": [
        {
          "name": "stdout",
          "output_type": "stream",
          "text": [
            "Ingresa el coeficiente A: 1\n",
            "Ingresa el coeficiente B: -3\n",
            "Ingresa el coeficiente C: 4\n"
          ]
        }
      ],
      "source": [
        "import numpy as np\n",
        "import sympy as sp\n",
        "\n",
        "x, y = sp.symbols('x y')\n",
        "A = (input(\"Ingresa el coeficiente A: \"))\n",
        "B = (input(\"Ingresa el coeficiente B: \"))\n",
        "C = (input(\"Ingresa el coeficiente C: \"))"
      ]
    },
    {
      "cell_type": "markdown",
      "source": [
        "Definimos los coeficientes de la EDP\n",
        "\n"
      ],
      "metadata": {
        "id": "8NAmE4rpWxBC"
      }
    },
    {
      "cell_type": "code",
      "source": [],
      "metadata": {
        "colab": {
          "base_uri": "https://localhost:8080/",
          "height": 193
        },
        "id": "AT34WD35ftDd",
        "outputId": "6f39c491-ff4b-43e2-d72d-35131673aaa2"
      },
      "execution_count": 5,
      "outputs": [
        {
          "output_type": "error",
          "ename": "NameError",
          "evalue": "name 'sp' is not defined",
          "traceback": [
            "\u001b[0;31m---------------------------------------------------------------------------\u001b[0m",
            "\u001b[0;31mNameError\u001b[0m                                 Traceback (most recent call last)",
            "\u001b[0;32m<ipython-input-5-c0a8fdb674ee>\u001b[0m in \u001b[0;36m<cell line: 0>\u001b[0;34m()\u001b[0m\n\u001b[0;32m----> 1\u001b[0;31m \u001b[0mx\u001b[0m\u001b[0;34m,\u001b[0m \u001b[0my\u001b[0m \u001b[0;34m=\u001b[0m \u001b[0msp\u001b[0m\u001b[0;34m.\u001b[0m\u001b[0msymbols\u001b[0m\u001b[0;34m(\u001b[0m\u001b[0;34m'x y'\u001b[0m\u001b[0;34m)\u001b[0m\u001b[0;34m\u001b[0m\u001b[0;34m\u001b[0m\u001b[0m\n\u001b[0m\u001b[1;32m      2\u001b[0m \u001b[0mA\u001b[0m \u001b[0;34m=\u001b[0m \u001b[0msp\u001b[0m\u001b[0;34m.\u001b[0m\u001b[0msympify\u001b[0m\u001b[0;34m(\u001b[0m\u001b[0minput\u001b[0m\u001b[0;34m(\u001b[0m\u001b[0;34m\"Ingresa el coeficiente A: \"\u001b[0m\u001b[0;34m)\u001b[0m\u001b[0;34m)\u001b[0m\u001b[0;34m\u001b[0m\u001b[0;34m\u001b[0m\u001b[0m\n\u001b[1;32m      3\u001b[0m \u001b[0mB\u001b[0m \u001b[0;34m=\u001b[0m \u001b[0msp\u001b[0m\u001b[0;34m.\u001b[0m\u001b[0msympify\u001b[0m\u001b[0;34m(\u001b[0m\u001b[0minput\u001b[0m\u001b[0;34m(\u001b[0m\u001b[0;34m\"Ingresa el coeficiente B: \"\u001b[0m\u001b[0;34m)\u001b[0m\u001b[0;34m)\u001b[0m\u001b[0;34m\u001b[0m\u001b[0;34m\u001b[0m\u001b[0m\n\u001b[1;32m      4\u001b[0m \u001b[0mC\u001b[0m \u001b[0;34m=\u001b[0m \u001b[0msp\u001b[0m\u001b[0;34m.\u001b[0m\u001b[0msympify\u001b[0m\u001b[0;34m(\u001b[0m\u001b[0minput\u001b[0m\u001b[0;34m(\u001b[0m\u001b[0;34m\"Ingresa el coeficiente C: \"\u001b[0m\u001b[0;34m)\u001b[0m\u001b[0;34m)\u001b[0m\u001b[0;34m\u001b[0m\u001b[0;34m\u001b[0m\u001b[0m\n",
            "\u001b[0;31mNameError\u001b[0m: name 'sp' is not defined"
          ]
        }
      ]
    },
    {
      "cell_type": "markdown",
      "source": [
        "Definimos el indicador $I$"
      ],
      "metadata": {
        "id": "f9WW7tMHf0BE"
      }
    },
    {
      "cell_type": "code",
      "source": [
        "I = B**2 - 4*A*C"
      ],
      "metadata": {
        "id": "5hXb0JYjgBvE"
      },
      "execution_count": null,
      "outputs": []
    },
    {
      "cell_type": "markdown",
      "source": [
        "Identificamos el tipo de EDP"
      ],
      "metadata": {
        "id": "RNId2JYLgYic"
      }
    },
    {
      "cell_type": "code",
      "source": [
        "# Identificar el tipo de EDP\n",
        "if I > 0:\n",
        "    tipodeedp = \"Hiperbólica\"\n",
        "elif E == 0:\n",
        "    tipodeedp = \"Parabólica\"\n",
        "else:\n",
        "    tipodeedp = \"Elíptica\"\n",
        "\n",
        "print(f\"\\nEl valor de I= {I}\")\n",
        "print(f\"La ecuación es: {tipo}\")"
      ],
      "metadata": {
        "id": "LiG_rdE8gIVM"
      },
      "execution_count": null,
      "outputs": []
    },
    {
      "cell_type": "markdown",
      "source": [
        "Hacemos el cambio de variable (Solo si es de tipo Hiperbólica):"
      ],
      "metadata": {
        "id": "FR6f2tgbg5-7"
      }
    },
    {
      "cell_type": "code",
      "source": [
        "if tipo == \"Hiperbólica\":\n",
        "#Definimos el cambio de varible con las siguientes fórmulas\n",
        "    xi = -(B + sp.sqrt(I))*x + 2*A*y\n",
        "    eta = -(B - sp.sqrt(I))*x + 2*A*y"
      ],
      "metadata": {
        "id": "BBQJDVGshAOj"
      },
      "execution_count": null,
      "outputs": []
    },
    {
      "cell_type": "markdown",
      "source": [
        "Imprimos la Transformación líneal de la EDP"
      ],
      "metadata": {
        "id": "2H4NnMIKhgba"
      }
    },
    {
      "cell_type": "code",
      "source": [
        "print(\"\\nLa Transformación líneal de la forma canónica de la EDP es:\")\n",
        "print(f\"ξ = {xi}\")\n",
        "print(f\"η = {eta}\")\n"
      ],
      "metadata": {
        "id": "CSiA6tbyhx26"
      },
      "execution_count": null,
      "outputs": []
    },
    {
      "cell_type": "code",
      "source": [
        "#Forma canónica de la EDP\n",
        "print(\"\\nLa forma canónica de la EDP (hiperbólica) es:\")\n",
        "print(\"U_{ξη} + términos de orden inferior = 0\")\n",
        "else:\n",
        "\n",
        "#En dado caso que no sea TIPO HIPERBÓLICA, DEBEMOS DE IMPRIMIR LO SIGUIENTE\n",
        "    print(\"\\nLa ecuación no es hiperbólica, no se harán cambios de varible.\")\n",
        "#Se modificará cuando veamos el cambiuo de coordenadas en otera"
      ],
      "metadata": {
        "id": "MY3xd79Td9Dw"
      },
      "execution_count": null,
      "outputs": []
    }
  ]
}