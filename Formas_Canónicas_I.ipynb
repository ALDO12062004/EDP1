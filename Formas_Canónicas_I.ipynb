{
  "nbformat": 4,
  "nbformat_minor": 0,
  "metadata": {
    "colab": {
      "provenance": [],
      "authorship_tag": "ABX9TyPCJ2mlRcCrLq7KpjvJvLTX",
      "include_colab_link": true
    },
    "kernelspec": {
      "name": "python3",
      "display_name": "Python 3"
    },
    "language_info": {
      "name": "python"
    }
  },
  "cells": [
    {
      "cell_type": "markdown",
      "metadata": {
        "id": "view-in-github",
        "colab_type": "text"
      },
      "source": [
        "<a href=\"https://colab.research.google.com/github/ALDO12062004/EDP1/blob/main/Formas_Can%C3%B3nicas_I.ipynb\" target=\"_parent\"><img src=\"https://colab.research.google.com/assets/colab-badge.svg\" alt=\"Open In Colab\"/></a>"
      ]
    },
    {
      "cell_type": "markdown",
      "source": [
        "importamos librerias"
      ],
      "metadata": {
        "id": "9eLlOmE_WOWM"
      }
    },
    {
      "cell_type": "code",
      "execution_count": 21,
      "metadata": {
        "id": "xXdRcheIV07z"
      },
      "outputs": [],
      "source": [
        "import sympy as sp\n",
        "x, y = sp.symbols('x y')"
      ]
    },
    {
      "cell_type": "markdown",
      "source": [
        "Definimos los coeficientes de la EDP\n",
        "\n"
      ],
      "metadata": {
        "id": "8NAmE4rpWxBC"
      }
    },
    {
      "cell_type": "code",
      "source": [
        "A_val= 1\n",
        "B_val=-3\n",
        "C_val= -10\n",
        "D_val= 0\n",
        "E_val= 0\n",
        "F_val= 0"
      ],
      "metadata": {
        "id": "AT34WD35ftDd"
      },
      "execution_count": 22,
      "outputs": []
    },
    {
      "cell_type": "markdown",
      "source": [
        "EDP simplificada"
      ],
      "metadata": {
        "id": "apdrvFkAXDDX"
      }
    },
    {
      "cell_type": "code",
      "source": [
        "A, B, C = sp.sympify(A_val), sp.sympify(B_val), sp.sympify(C_val)"
      ],
      "metadata": {
        "id": "08Vzlg47XF_y"
      },
      "execution_count": 23,
      "outputs": []
    },
    {
      "cell_type": "markdown",
      "source": [
        "Definimos el indicador $I$"
      ],
      "metadata": {
        "id": "f9WW7tMHf0BE"
      }
    },
    {
      "cell_type": "code",
      "source": [
        "I = B**2 - 4*A*C\n",
        "print(f\"Indicador I = {I}\")"
      ],
      "metadata": {
        "id": "5hXb0JYjgBvE",
        "colab": {
          "base_uri": "https://localhost:8080/"
        },
        "outputId": "09875592-b25f-49bb-beb9-e252117ffa40"
      },
      "execution_count": 24,
      "outputs": [
        {
          "output_type": "stream",
          "name": "stdout",
          "text": [
            "Indicador I = 49\n"
          ]
        }
      ]
    },
    {
      "cell_type": "code",
      "source": [
        "s = sp.sqrt(I)"
      ],
      "metadata": {
        "id": "UzKx4qUUYD_S"
      },
      "execution_count": 25,
      "outputs": []
    },
    {
      "cell_type": "markdown",
      "source": [
        "Realizamos las transformaciones lineales"
      ],
      "metadata": {
        "id": "RNId2JYLgYic"
      }
    },
    {
      "cell_type": "code",
      "source": [
        "xi = -(B + s)*x + 2*A*y\n",
        "eta = -(B - s)*x + 2*A*y\n",
        "\n",
        "a11=-(B + s)\n",
        "a12=2*A_val\n",
        "a21=-(B - s)\n",
        "a22=2*A_val\n",
        "\n",
        "print(f\"\\nTransformaciones lineales:\")\n",
        "print(f\"ξ(x, y)  = {xi}\")\n",
        "print(f\"η(x, y) = {eta}\")"
      ],
      "metadata": {
        "id": "LiG_rdE8gIVM",
        "colab": {
          "base_uri": "https://localhost:8080/"
        },
        "outputId": "6f2ff9ee-4930-43bf-fe41-201c5b31ee75"
      },
      "execution_count": 26,
      "outputs": [
        {
          "output_type": "stream",
          "name": "stdout",
          "text": [
            "\n",
            "Transformaciones lineales:\n",
            "ξ(x, y)  = -4*x + 2*y\n",
            "η(x, y) = 10*x + 2*y\n"
          ]
        }
      ]
    },
    {
      "cell_type": "markdown",
      "source": [
        "Coeficientes para la solución"
      ],
      "metadata": {
        "id": "FR6f2tgbg5-7"
      }
    },
    {
      "cell_type": "code",
      "source": [
        "A_t= A_val*a11**2+B_val*a11*a12+C_val*a12**2\n",
        "B_t= 2*A_val*a11*a21+B_val*(a11*a22+a21*a12)+C_val*2*a12*a22\n",
        "C_t= A_val*a21**2+B_val*a21*a22+C_val*a22**2\n",
        "D_t= D_val*a11+E_val*a12\n",
        "E_t= D_val*a21+E_val*a22"
      ],
      "metadata": {
        "id": "gSD_e0EFYuC5"
      },
      "execution_count": 27,
      "outputs": []
    },
    {
      "cell_type": "markdown",
      "source": [
        "Determinamos el tipo de EDP"
      ],
      "metadata": {
        "id": "2H4NnMIKhgba"
      }
    },
    {
      "cell_type": "code",
      "source": [
        "if I < 0:\n",
        "    tipo = \"Elíptica\"\n",
        "    forma_canonica = f\"\\n{A_t}*u_ξξ + {C_t}*u_ηη = H'\"\n",
        "elif I == 0:\n",
        "    tipo = \"Parabólica\"\n",
        "    forma_canonica = f\"\\n{C_t}*u_ηη = G'\"\n",
        "\n",
        "else:\n",
        "    tipo = \"Hipérbolica\"\n",
        "    forma_canonica = f\"\\n{B_t}*u_ξη = F'\\nó \\n{A_t}*u_ξξ - {C_t}*u_ηη=F'\"\n",
        "    print(f\"\\nTipo: {tipo}\")\n",
        "print(f\"Forma canónica: {forma_canonica}\")"
      ],
      "metadata": {
        "id": "CSiA6tbyhx26",
        "colab": {
          "base_uri": "https://localhost:8080/"
        },
        "outputId": "24d23958-afef-4080-8b6c-8a4df7e36551"
      },
      "execution_count": 29,
      "outputs": [
        {
          "output_type": "stream",
          "name": "stdout",
          "text": [
            "\n",
            "Tipo: Hipérbolica\n",
            "Forma canónica: \n",
            "-196*u_ξη = F'\n",
            "ó \n",
            "0*u_ξξ - 0*u_ηη=F'\n"
          ]
        }
      ]
    }
  ]
}