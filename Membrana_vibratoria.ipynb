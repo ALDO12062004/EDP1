{
  "nbformat": 4,
  "nbformat_minor": 0,
  "metadata": {
    "colab": {
      "provenance": [],
      "authorship_tag": "ABX9TyMkBlh+8P73h0jsq+GugXfL",
      "include_colab_link": true
    },
    "kernelspec": {
      "name": "python3",
      "display_name": "Python 3"
    },
    "language_info": {
      "name": "python"
    }
  },
  "cells": [
    {
      "cell_type": "markdown",
      "metadata": {
        "id": "view-in-github",
        "colab_type": "text"
      },
      "source": [
        "<a href=\"https://colab.research.google.com/github/ALDO12062004/EDP1/blob/main/Membrana_vibratoria.ipynb\" target=\"_parent\"><img src=\"https://colab.research.google.com/assets/colab-badge.svg\" alt=\"Open In Colab\"/></a>"
      ]
    },
    {
      "cell_type": "code",
      "execution_count": null,
      "metadata": {
        "id": "9uFoNYIeWvoI"
      },
      "outputs": [],
      "source": []
    },
    {
      "cell_type": "markdown",
      "source": [
        "Resolver la Ecuación Diferencial Parcial\n",
        "\n",
        "$$\\frac{\\partial^2 u}{\\partial t^2} = c^2 \\left( \\frac{\\partial^2 u}{\\partial x^2}+\\frac{\\partial ^2u}{\\partial y^2} \\right) $$\n",
        "\n",
        "con condición de frontera\n",
        "$$u=0$$\n",
        "\n",
        "y las condiciones iniciales\n",
        "$$u(x,y,0) = f(x,y)$$\n",
        "\n"
      ],
      "metadata": {
        "id": "uVYXU_u7XF-i"
      }
    },
    {
      "cell_type": "markdown",
      "source": [
        "#Suposición de $u(x,y,t)$\n",
        "Resolviendo la ecuación por el método de variables separables\n",
        "\n",
        "Supongamos que\n",
        "$$u(x,y,t)=X(x)Y(y)T(t)$$\n",
        "Sustituyendo en la ecuación de onda\n",
        "$$XYT''=c^2(YTX''+XTY'')$$\n",
        "Des esta forma\n",
        "$$\\frac{T''}{c^2T}=\\frac{X''}{X}+\\frac{Y''}{Y} $$"
      ],
      "metadata": {
        "id": "tZa01qZwbY46"
      }
    },
    {
      "cell_type": "markdown",
      "source": [
        "#Separación de Ecuaciones Diferenciales Ordinarias"
      ],
      "metadata": {
        "id": "fvDe5_y2dF6p"
      }
    },
    {
      "cell_type": "markdown",
      "source": [],
      "metadata": {
        "id": "-K5wf68rdPcQ"
      }
    }
  ]
}