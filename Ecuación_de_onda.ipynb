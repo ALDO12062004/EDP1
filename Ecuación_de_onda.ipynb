{
  "nbformat": 4,
  "nbformat_minor": 0,
  "metadata": {
    "colab": {
      "provenance": [],
      "authorship_tag": "ABX9TyMvUWRCxTvj2GDUzwvaJQeR",
      "include_colab_link": true
    },
    "kernelspec": {
      "name": "python3",
      "display_name": "Python 3"
    },
    "language_info": {
      "name": "python"
    }
  },
  "cells": [
    {
      "cell_type": "markdown",
      "metadata": {
        "id": "view-in-github",
        "colab_type": "text"
      },
      "source": [
        "<a href=\"https://colab.research.google.com/github/ALDO12062004/EDP1/blob/main/Ecuaci%C3%B3n_de_onda.ipynb\" target=\"_parent\"><img src=\"https://colab.research.google.com/assets/colab-badge.svg\" alt=\"Open In Colab\"/></a>"
      ]
    },
    {
      "cell_type": "markdown",
      "source": [
        "#EJERCICIO"
      ],
      "metadata": {
        "id": "rfg3P72xM7DB"
      }
    },
    {
      "cell_type": "markdown",
      "source": [
        "Resolver la ecuación diferencial parcial\n",
        "\n",
        "$$\\frac{\\partial^2u}{\\partial t^2} = c^2  \\frac{\\partial ^2 u}{\\partial x^2} $$\n",
        "\n",
        "con condiciones de frontera\n",
        "\n",
        "$$0 \\leq x \\leq 1 =L$$\n",
        "\n",
        "$$f(0)=0 \\quad , \\quad f(1)=0$$\n",
        "\n",
        "$$\\frac{\\partial u(x,0)}{\\partial t}$$"
      ],
      "metadata": {
        "id": "gRRpLm2LNF8I"
      }
    },
    {
      "cell_type": "code",
      "source": [],
      "metadata": {
        "id": "u4lSiaKiSHkD"
      },
      "execution_count": null,
      "outputs": []
    },
    {
      "cell_type": "markdown",
      "source": [
        "Solución\n",
        "\n",
        "Supongamos que $$u(x,t)=X(x)T(t)$$\n",
        "\n",
        "$$\\Longrightarrow XT'' = X''T$$\n",
        "\n",
        "De este modo\n",
        "\n",
        "$$\\frac{T''}{T} = \\frac {X''}{X} = \\lambda $$\n",
        "\n",
        "Tenemos los siguientes problemas de S-L\n",
        "\n",
        "$$X''-\\lambda x =0 \\quad \\quad \\quad T''-\\lambda T=0$$"
      ],
      "metadata": {
        "id": "RFjSTZrWNF7I"
      }
    },
    {
      "cell_type": "markdown",
      "source": [],
      "metadata": {
        "id": "T8cn5YVIR1sE"
      }
    },
    {
      "cell_type": "code",
      "source": [
        "import sympy as sp\n",
        "\n",
        "# Definir las variables y la función\n",
        "x = sp.symbols('x')\n",
        "n = sp.symbols('n', integer=True, positive=True)\n",
        "X = sp.Function('X')(x)\n",
        "lambda_ = -n**2 * sp.pi**2\n",
        "\n",
        "# Definir la ecuación diferencial\n",
        "eq = sp.Eq(X.diff(x, 2) - lambda_ * X, 0)\n",
        "\n",
        "# Resolver la ecuación diferencial\n",
        "solution = sp.dsolve(eq, X)\n",
        "\n",
        "# Aplicar las condiciones de frontera\n",
        "C1, C2 = sp.symbols('C1 C2')\n",
        "general_solution = solution.rhs\n",
        "\n",
        "# Condición X(0) = 0\n",
        "cond1 = general_solution.subs(x, 0)\n",
        "sol_C2 = sp.solve(cond1, C2)[0]  # Esto dará C2 = 0 si la solución es correcta\n",
        "\n",
        "# Sustituir C2 en la solución general\n",
        "solution_C2 = general_solution.subs(C2, sol_C2)\n",
        "\n",
        "# Condición X(1) = 0\n",
        "cond2 = solution_C2.subs(x, 1)\n",
        "# Para evitar la solución trivial, asumimos C1 != 0 y resolvemos la condición\n",
        "# Esto ya lo sabemos: sin(n*pi) = 0, que se cumple para n entero\n",
        "\n",
        "# Mostrar la solución\n",
        "print(\"Solución general de la ecuación diferencial:\")\n",
        "print(solution)\n",
        "\n",
        "print(\"\\nSolución con las condiciones de frontera aplicadas:\")\n",
        "print(\"X_n(x) =\", solution_C2.simplify())"
      ],
      "metadata": {
        "colab": {
          "base_uri": "https://localhost:8080/"
        },
        "id": "yTrKEwoDR1-z",
        "outputId": "9e748fc9-af1d-482f-9b90-01775a6be429"
      },
      "execution_count": 1,
      "outputs": [
        {
          "output_type": "stream",
          "name": "stdout",
          "text": [
            "Solución general de la ecuación diferencial:\n",
            "Eq(X(x), C1*sin(pi*n*x) + C2*cos(pi*n*x))\n",
            "\n",
            "Solución con las condiciones de frontera aplicadas:\n",
            "X_n(x) = C1*sin(pi*n*x)\n"
          ]
        }
      ]
    },
    {
      "cell_type": "code",
      "source": [
        "import sympy as sp\n",
        "\n",
        "# Definir las variables\n",
        "t = sp.symbols('t')\n",
        "lambda_ = sp.symbols('lambda', real=True)\n",
        "A, B = sp.symbols('A B')\n",
        "T = sp.Function('T')(t)\n",
        "\n",
        "# Definir la ecuación diferencial\n",
        "eq = sp.Eq(T.diff(t, 2) - lambda_ * T, 0)\n",
        "\n",
        "# Resolver la ecuación diferencial\n",
        "solution = sp.dsolve(eq, T)\n",
        "\n",
        "# Aplicar la condición inicial T'(0) = 0\n",
        "dTdt = solution.rhs.diff(t)  # Derivada de T(t)\n",
        "condicion = sp.Eq(dTdt.subs(t, 0), 0)  # T'(0) = 0\n",
        "\n",
        "# Resolver para las constantes A y B\n",
        "constantes = sp.solve(condicion, (A, B))\n",
        "\n",
        "# Sustituir las constantes en la solución general\n",
        "solucion_particular = solution.rhs.subs(constantes)\n",
        "\n",
        "# Mostrar resultados\n",
        "print(\"Solución general de T'' - λ T = 0:\")\n",
        "print(solution)\n",
        "\n",
        "print(\"\\nSolución con la condición inicial T'(0) = 0:\")\n",
        "print(solucion_particular)"
      ],
      "metadata": {
        "colab": {
          "base_uri": "https://localhost:8080/"
        },
        "id": "kT6k0JcZTKY9",
        "outputId": "e811ae84-5a54-44cd-8693-a5c4953b1887"
      },
      "execution_count": 2,
      "outputs": [
        {
          "output_type": "stream",
          "name": "stdout",
          "text": [
            "Solución general de T'' - λ T = 0:\n",
            "Eq(T(t), C1*exp(-sqrt(lambda)*t) + C2*exp(sqrt(lambda)*t))\n",
            "\n",
            "Solución con la condición inicial T'(0) = 0:\n",
            "C1*exp(-sqrt(lambda)*t) + C2*exp(sqrt(lambda)*t)\n"
          ]
        }
      ]
    }
  ]
}